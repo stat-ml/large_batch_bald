{
 "cells": [
  {
   "cell_type": "code",
   "execution_count": null,
   "metadata": {},
   "outputs": [],
   "source": [
    "# default_exp repeated_mnist"
   ]
  },
  {
   "cell_type": "code",
   "execution_count": null,
   "metadata": {},
   "outputs": [
    {
     "name": "stdout",
     "output_type": "stream",
     "text": [
      "Appended /home/blackhc/PycharmProjects/blackhc.batchbald/src to paths\n",
      "Switched to directory /home/blackhc/PycharmProjects/blackhc.batchbald\n",
      "%load_ext autoreload\n",
      "%autoreload 2\n"
     ]
    }
   ],
   "source": [
    "# hide\n",
    "import blackhc.project.script\n",
    "from nbdev.showdoc import *"
   ]
  },
  {
   "cell_type": "markdown",
   "metadata": {},
   "source": [
    "# Repeated-MNIST Dataset\n",
    "> Loading Repeated-MNIST and MNIST (with and without added noise)"
   ]
  },
  {
   "cell_type": "code",
   "execution_count": null,
   "metadata": {},
   "outputs": [],
   "source": [
    "# exports\n",
    "\n",
    "import torch\n",
    "import torch.utils.data as data\n",
    "from torch.utils.data import Dataset\n",
    "from torchvision import datasets, transforms"
   ]
  },
  {
   "cell_type": "code",
   "execution_count": null,
   "metadata": {},
   "outputs": [],
   "source": [
    "# exports\n",
    "\n",
    "\n",
    "class TransformedDataset(data.Dataset):\n",
    "    \"\"\"\n",
    "    Transforms a dataset.\n",
    "\n",
    "    Arguments:\n",
    "        dataset (Dataset): The whole Dataset\n",
    "        transformer (LambdaType): (idx, sample) -> transformed_sample\n",
    "    \"\"\"\n",
    "\n",
    "    def __init__(self, dataset, *, transformer=None, vision_transformer=None):\n",
    "        self.dataset = dataset\n",
    "        assert not transformer or not vision_transformer\n",
    "        if transformer:\n",
    "            self.transformer = transformer\n",
    "        else:\n",
    "            self.transformer = lambda _, data_label: (vision_transformer(data_label[0]), data_label[1])\n",
    "\n",
    "    def __getitem__(self, idx):\n",
    "        return self.transformer(idx, self.dataset[idx])\n",
    "\n",
    "    def __len__(self):\n",
    "        return len(self.dataset)\n",
    "\n",
    "\n",
    "def create_repeated_MNIST_dataset(*, num_repetitions: int = 3, add_noise: bool = True):\n",
    "    # num_classes = 10, input_size = 28\n",
    "\n",
    "    transform = transforms.Compose([transforms.ToTensor(), transforms.Normalize((0.1307,), (0.3081,))])\n",
    "\n",
    "    train_dataset = datasets.MNIST(\"data\", train=True, download=True, transform=transform)\n",
    "\n",
    "    if num_repetitions > 1:\n",
    "        train_dataset = data.ConcatDataset([train_dataset] * num_repetitions)\n",
    "\n",
    "    if add_noise:\n",
    "        dataset_noise = torch.empty((len(train_dataset), 28, 28), dtype=torch.float32).normal_(0.0, 0.1)\n",
    "\n",
    "        def apply_noise(idx, sample):\n",
    "            data, target = sample\n",
    "            return data + dataset_noise[idx], target\n",
    "\n",
    "        train_dataset = TransformedDataset(train_dataset, transformer=apply_noise)\n",
    "\n",
    "    test_dataset = datasets.MNIST(\"data\", train=False, transform=transform)\n",
    "\n",
    "    return train_dataset, test_dataset\n",
    "\n",
    "\n",
    "def create_MNIST_dataset():\n",
    "    return create_repeated_MNIST(num_repetitions=1, add_noise=False)\n",
    "\n",
    "\n",
    "def get_targets(dataset):\n",
    "    \"\"\"Get the targets of a dataset without any target transforms.\n",
    "\n",
    "    This supports subsets and other derivative datasets.\"\"\"\n",
    "    if isinstance(dataset, TransformedDataset):\n",
    "        return get_targets(dataset.dataset)\n",
    "    if isinstance(dataset, data.Subset):\n",
    "        targets = get_targets(dataset.dataset)\n",
    "        return torch.as_tensor(targets)[dataset.indices]\n",
    "    if isinstance(dataset, data.ConcatDataset):\n",
    "        return torch.cat([get_targets(sub_dataset) for sub_dataset in dataset.datasets])\n",
    "\n",
    "    return torch.as_tensor(dataset.targets)"
   ]
  },
  {
   "cell_type": "markdown",
   "metadata": {},
   "source": [
    "## Example"
   ]
  },
  {
   "cell_type": "code",
   "execution_count": null,
   "metadata": {},
   "outputs": [],
   "source": [
    "train_dataset, test_dataset = create_repeated_MNIST_dataset(num_repetitions=3, add_noise=True)"
   ]
  },
  {
   "cell_type": "code",
   "execution_count": null,
   "metadata": {},
   "outputs": [
    {
     "data": {
      "text/plain": [
       "(180000, 10000)"
      ]
     },
     "execution_count": null,
     "metadata": {},
     "output_type": "execute_result"
    }
   ],
   "source": [
    "len(train_dataset), len(test_dataset)"
   ]
  }
 ],
 "metadata": {
  "kernelspec": {
   "display_name": "Python 3",
   "language": "python",
   "name": "python3"
  },
  "language_info": {
   "codemirror_mode": {
    "name": "ipython",
    "version": 3
   },
   "file_extension": ".py",
   "mimetype": "text/x-python",
   "name": "python",
   "nbconvert_exporter": "python",
   "pygments_lexer": "ipython3",
   "version": "3.8.8"
  }
 },
 "nbformat": 4,
 "nbformat_minor": 4
}
