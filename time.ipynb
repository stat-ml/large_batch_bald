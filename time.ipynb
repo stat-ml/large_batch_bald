{
 "cells": [
  {
   "cell_type": "code",
   "execution_count": 13,
   "id": "8e8939d1-f24d-4255-a3f9-a7655e6c3cf1",
   "metadata": {},
   "outputs": [],
   "source": [
    "import matplotlib.pyplot as plt\n",
    "import matplotlib\n",
    "import pandas as pd\n",
    "import numpy as np\n",
    "import statistics\n",
    "\n",
    "uns_type = 'MC'\n",
    "dataset_name = 'MNIST'\n",
    "acquisition_batch_size = 20\n",
    "random_seeds = [42, 227, 346, 684, 920]\n",
    "algs = ['PLBB', 'PBALD', 'LBB', 'BALD', 'BB', 'Rand'] \n",
    "num_initial_samples = 20\n",
    "max_training_samples = 500\n",
    "PATH = 'results/' + uns_type + '/' + dataset_name + '/' + str(acquisition_batch_size) + '/'\n",
    "\n",
    "time = {}\n",
    "\n",
    "for alg in algs:\n",
    "    time_list = []\n",
    "    for random_seed in random_seeds:\n",
    "        df = pd.read_csv('results/' + uns_type + \"/\" + dataset_name + \"/\" + str(acquisition_batch_size) + \"/\" + alg + str(random_seed) + \".csv\")\n",
    "        time_list.append(df['Time'][df['Time'] > 0][1])\n",
    "    time[alg] = (round(np.mean(time_list), 2), round(np.std(time_list), 2))"
   ]
  },
  {
   "cell_type": "code",
   "execution_count": 14,
   "id": "31ffb368-7d90-46e4-9590-f0eb1e31f158",
   "metadata": {},
   "outputs": [
    {
     "data": {
      "text/plain": [
       "{'PLBB': (42.32, 0.57),\n",
       " 'PBALD': (3.02, 0.5),\n",
       " 'LBB': (43.43, 1.07),\n",
       " 'BALD': (3.05, 0.51),\n",
       " 'BB': (961.26, 19.05),\n",
       " 'Rand': (0.0, 0.0)}"
      ]
     },
     "execution_count": 14,
     "metadata": {},
     "output_type": "execute_result"
    }
   ],
   "source": [
    "time"
   ]
  },
  {
   "cell_type": "code",
   "execution_count": null,
   "id": "0f61a05a-4687-4709-836e-ac07e14e536d",
   "metadata": {},
   "outputs": [],
   "source": []
  }
 ],
 "metadata": {
  "kernelspec": {
   "display_name": "Python 3",
   "language": "python",
   "name": "python3"
  },
  "language_info": {
   "codemirror_mode": {
    "name": "ipython",
    "version": 3
   },
   "file_extension": ".py",
   "mimetype": "text/x-python",
   "name": "python",
   "nbconvert_exporter": "python",
   "pygments_lexer": "ipython3",
   "version": "3.8.8"
  }
 },
 "nbformat": 4,
 "nbformat_minor": 5
}
